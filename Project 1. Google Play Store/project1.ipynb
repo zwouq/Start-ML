{
 "cells": [
  {
   "cell_type": "markdown",
   "metadata": {},
   "source": [
    "Описание данных\n",
    "\n",
    "App — название приложения\n",
    "\n",
    "Category — категория, к которой относится приложение\n",
    "\n",
    "Rating — рейтинг пользователей\n",
    "\n",
    "Reviews — количество отзывов пользователей о приложении\n",
    "\n",
    "Size — размер приложения\n",
    "\n",
    "Installs — количество загрузок/установок приложения пользователями\n",
    "\n",
    "Type — платное или бесплатное приложение\n",
    "\n",
    "Price — цена приложения\n",
    "\n",
    "Content Rating — возрастная группа, на которую ориентировано приложение\n",
    "\n",
    "Genres — принадлежность приложения к нескольким жанрам\n",
    "\n",
    "Last Updated — дата последнего обновления приложения в Play Store\n",
    "\n",
    "Current Ver — текущая версия приложения в Play Store\n",
    "\n",
    "Android Ver — минимальная требуемая версия Android"
   ]
  },
  {
   "cell_type": "code",
   "execution_count": null,
   "metadata": {
    "vscode": {
     "languageId": "plaintext"
    }
   },
   "outputs": [],
   "source": []
  }
 ],
 "metadata": {
  "language_info": {
   "name": "python"
  }
 },
 "nbformat": 4,
 "nbformat_minor": 2
}
