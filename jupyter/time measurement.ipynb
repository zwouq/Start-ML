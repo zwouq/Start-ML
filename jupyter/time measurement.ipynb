{
 "cells": [
  {
   "cell_type": "code",
   "execution_count": 4,
   "metadata": {},
   "outputs": [
    {
     "name": "stdout",
     "output_type": "stream",
     "text": [
      "3.78 ms ± 75.9 µs per loop (mean ± std. dev. of 7 runs, 100 loops each)\n"
     ]
    }
   ],
   "source": [
    "%%timeit\n",
    "\n",
    "def scalar_product(vec1, vec2):\n",
    "    result = 0\n",
    "    for i in range(len(vec1)):\n",
    "        result += vec1[i] * vec2[i]\n",
    "    return result\n",
    "\n",
    "vec1 = list(range(int(1e5)))\n",
    "vec2 = list(range(int(1e5), 0, -1))\n",
    "\n",
    "scalar_product(vec1, vec2)"
   ]
  },
  {
   "cell_type": "code",
   "execution_count": 5,
   "metadata": {},
   "outputs": [
    {
     "name": "stdout",
     "output_type": "stream",
     "text": [
      "1.666617e+14\n"
     ]
    }
   ],
   "source": [
    "result = sum(i * (1e5 - i - 1) for i in range(int(1e5)))\n",
    "print(f\"{result:e}\")"
   ]
  },
  {
   "cell_type": "markdown",
   "metadata": {},
   "source": [
    "Использование numpy"
   ]
  },
  {
   "cell_type": "code",
   "execution_count": 14,
   "metadata": {},
   "outputs": [
    {
     "name": "stdout",
     "output_type": "stream",
     "text": [
      "64.4 µs ± 600 ns per loop (mean ± std. dev. of 7 runs, 10,000 loops each)\n"
     ]
    }
   ],
   "source": [
    "%%timeit\n",
    "import numpy as np\n",
    "vec1 = np.arange(0, int(1e5), dtype=np.int64)\n",
    "vec2 = np.arange(int(1e5), 0, -1, dtype=np.int64)\n",
    "result = np.dot(vec1, vec2)"
   ]
  }
 ],
 "metadata": {
  "kernelspec": {
   "display_name": "Python 3",
   "language": "python",
   "name": "python3"
  },
  "language_info": {
   "codemirror_mode": {
    "name": "ipython",
    "version": 3
   },
   "file_extension": ".py",
   "mimetype": "text/x-python",
   "name": "python",
   "nbconvert_exporter": "python",
   "pygments_lexer": "ipython3",
   "version": "3.12.0"
  }
 },
 "nbformat": 4,
 "nbformat_minor": 2
}
