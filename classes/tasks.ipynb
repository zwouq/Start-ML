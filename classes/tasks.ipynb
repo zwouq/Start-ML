{
 "cells": [
  {
   "cell_type": "markdown",
   "metadata": {},
   "source": [
    "1. Напишите класс Triangle, который будет иметь 3 поля: a, b, c (стороны треугольника) и n_dots = 3 (количество точек). Поле n_dots объявите на уровне класса, не в конструкторе — чтобы оно было доступно без создания объекта (т.е. работал вызов Triangle.n_dots). Добавьте в класс простой конструктор, принимающий на вход все три стороны и сохраняющий эти стороны в соответсвующие поля класса.\n",
    "\n",
    "Создайте объекты этого класса со следующими названиями: tr_1, tr_2 и любыми значениями длин сторон."
   ]
  },
  {
   "cell_type": "code",
   "execution_count": 3,
   "metadata": {},
   "outputs": [],
   "source": [
    "class Triangle:\n",
    "    n_dots = 3\n",
    "\n",
    "    def __init__(self, a, b, c):\n",
    "        self.a = a\n",
    "        self.b = b\n",
    "        self.c = c\n",
    "\n",
    "tr_1 = Triangle(5, 6, 7)\n",
    "tr_2 = Triangle(3, 4, 5)"
   ]
  },
  {
   "cell_type": "markdown",
   "metadata": {},
   "source": [
    "2. Возьмите класс Triangle из предыдущего задания и добавьте метод area(), возвращающий площадь треугольника. Напомним, что при известных трех сторонах площадь треугольника можно подсчитать по формуле Герона: S= sqrt(p(p−a)(p−b)(p−c)), где p= 0.5(a+b+c) — полупериметр. Подумайте, как можно организовать код так, чтобы p считалась один раз.\n",
    "\n",
    "Затем поменяйте конструктор: он должен проверять, что выполнено неравенство треугольника - каждая сторона меньше  суммы двух других. Если это условие не выполнено, выбрасывайте ValueError с текстом \"triangle inequality does not hold\" (передайте эту строку в конструктор ValueError).\n",
    "\n",
    "Наконец, создайте два объекта данного класса с названиями tr_1 и tr_2 , в которых соблюдается неравенство треугольника. Также, сохраните в переменные square_1 и square_2 результаты вызовов методов .area() для объектов tr_1 и tr_2 соответственно."
   ]
  },
  {
   "cell_type": "code",
   "execution_count": 4,
   "metadata": {},
   "outputs": [],
   "source": [
    "from math import sqrt\n",
    "\n",
    "class Triangle:\n",
    "    n_dots = 3\n",
    "\n",
    "    def __init__(self, a, b, c):\n",
    "        if not (a + b > c and a + c > b and b + c > a):\n",
    "            raise ValueError(\"triangle inequality does not hold\")\n",
    "        self.a = a\n",
    "        self.b = b\n",
    "        self.c = c\n",
    "    \n",
    "    def area(self):\n",
    "        p = 0.5 * (self.a + self.b + self.c)\n",
    "        S = sqrt(p * (p - self.a) * (p - self.b) * (p - self.c))\n",
    "        return S\n",
    "\n",
    "tr_1 = Triangle(5, 6, 7)\n",
    "tr_2 = Triangle(3, 4, 5)\n",
    "# Сохраняем результаты вызовов метода area() в переменные\n",
    "square_1 = tr_1.area()\n",
    "square_2 = tr_2.area()"
   ]
  },
  {
   "cell_type": "markdown",
   "metadata": {},
   "source": [
    "3. Создайте класс Rectangle (прямоугольник), который будет наследоваться от класса Triangle. Сделайте так, чтобы area(), конструктор и поле n_dots были верными. А именно:\n",
    "\n",
    "- Конструктор должен принимать 2 стороны: a, b\n",
    "- area() должен считать площадь как произведение смежных сторон: S=ab\n",
    "- Неравенство треугольника не нужно проверять.\n",
    "- n_dots должен быть объявлен на уровне класса и равняться 4.\n",
    "Отправьте реализацию класса Rectangle в LMS. Класс Triangle отправлять не нужно."
   ]
  },
  {
   "cell_type": "code",
   "execution_count": null,
   "metadata": {},
   "outputs": [],
   "source": [
    "class Rectangle(Triangle):\n",
    "    n_dots = 4\n",
    "    \n",
    "    def __init__(self, a, b):\n",
    "        self.a = a\n",
    "        self.b = b\n",
    "    \n",
    "    def area(self):\n",
    "        S = self.a * self.b\n",
    "        return S"
   ]
  },
  {
   "cell_type": "markdown",
   "metadata": {},
   "source": [
    "4.1. Тут нам поможет создание некой \"базовой фигуры\". Это будет сборник общих свойств, который сам по себе не будет представлять никакую фигуру, но послужит хорошим плацдармом для следующих классов.\n",
    "\n",
    "Напишите класс BaseFigure, который имеет поле класса (т.е. на уровне класса) n_dots = None, метод area() \"без реализации\", метод validate() \"без реализации\". Сделайте так, чтобы методы \"без реализации\" выбрасывали исключение NotImplementedError при их вызове и ничего другого не делали. Создайте также конструктор класса, который не принимает дополнительных аргументов и в реализации только лишь вызывает self.validate()."
   ]
  },
  {
   "cell_type": "code",
   "execution_count": 5,
   "metadata": {},
   "outputs": [],
   "source": [
    "class BaseFigure:\n",
    "    n_dots = None\n",
    "    \n",
    "    def __init__(self):\n",
    "        self.validate()\n",
    "    \n",
    "    def area(self):\n",
    "        raise NotImplementedError(\"The method area() is not implemented.\")\n",
    "\n",
    "    def validate(self):\n",
    "        raise NotImplementedError(\"The method area() is not implemented.\")"
   ]
  },
  {
   "cell_type": "markdown",
   "metadata": {},
   "source": [
    "4.2. Перепишите классы Triangle, Rectangle так, чтобы они наследовались от BaseFigure. Затем уберите реализацию всех методов и конструкторов в классах-потомках."
   ]
  },
  {
   "cell_type": "code",
   "execution_count": 8,
   "metadata": {},
   "outputs": [
    {
     "ename": "TypeError",
     "evalue": "BaseFigure.__init__() takes 1 positional argument but 4 were given",
     "output_type": "error",
     "traceback": [
      "\u001b[0;31m---------------------------------------------------------------------------\u001b[0m",
      "\u001b[0;31mTypeError\u001b[0m                                 Traceback (most recent call last)",
      "Cell \u001b[0;32mIn[8], line 7\u001b[0m\n\u001b[1;32m      4\u001b[0m \u001b[38;5;28;01mclass\u001b[39;00m \u001b[38;5;21;01mRectangle\u001b[39;00m(BaseFigure):\n\u001b[1;32m      5\u001b[0m     \u001b[38;5;28;01mpass\u001b[39;00m\n\u001b[0;32m----> 7\u001b[0m tr_1 \u001b[38;5;241m=\u001b[39m \u001b[43mTriangle\u001b[49m\u001b[43m(\u001b[49m\u001b[38;5;241;43m5\u001b[39;49m\u001b[43m,\u001b[49m\u001b[43m \u001b[49m\u001b[38;5;241;43m6\u001b[39;49m\u001b[43m,\u001b[49m\u001b[43m \u001b[49m\u001b[38;5;241;43m7\u001b[39;49m\u001b[43m)\u001b[49m\n\u001b[1;32m      8\u001b[0m tr_2 \u001b[38;5;241m=\u001b[39m Triangle(\u001b[38;5;241m3\u001b[39m, \u001b[38;5;241m4\u001b[39m, \u001b[38;5;241m5\u001b[39m)\n\u001b[1;32m      9\u001b[0m \u001b[38;5;66;03m# Сохраняем результаты вызовов метода area() в переменные\u001b[39;00m\n",
      "\u001b[0;31mTypeError\u001b[0m: BaseFigure.__init__() takes 1 positional argument but 4 were given"
     ]
    }
   ],
   "source": [
    "class Triangle(BaseFigure):\n",
    "    pass\n",
    "\n",
    "class Rectangle(BaseFigure):\n",
    "    pass\n",
    "\n",
    "tr_1 = Triangle(5, 6, 7)\n",
    "tr_2 = Triangle(3, 4, 5)\n",
    "# Сохраняем результаты вызовов метода area() в переменные\n",
    "square_1 = tr_1.area()\n",
    "square_2 = tr_2.area()"
   ]
  },
  {
   "cell_type": "markdown",
   "metadata": {},
   "source": [
    "4.3. Возьмите классы Triangle и Rectangle из прошлого задания.\n",
    "\n",
    "- Переопределите метод area в каждом случае.\n",
    "- Переопределите конструктор в каждом случае (число аргументов тоже меняется). Не забудьте в конструкторе дочернего класса вызвать конструктор родительского класса!\n",
    "- Переопределите метод validate в каждом случае. Метод validate должен принимать только аргумент self и использовать созданные в конструкторе переменные. Для этого вы можете сначала сохранять в конструкторе входные данные в self.переменная, а затем вызывать конструктор суперкласса. Для Triangle данный метод должен проверять неравенство треугольника и выбрасывать ошибку ValueError(\"triangle inequality does not hold\") либо возвращать значения сторон. Для Rectangle данный метод должен возвращать значения сторон.\n",
    "\n",
    "В итоге вы получите два класса, которые построены по схожему шаблону. Этот общий шаблон был задан в классе BaseFigure. Создайте несколько объектов этих классов и попробуйте вызвать у них .area(), .validate(). Если вы пользуетесь IDE, то увидите интерактивные подсказки: она скажет, что такие методы есть и что эти методы перегружают (overload) методы из родительского класса. При этом вызов методов будет работать коррректно."
   ]
  },
  {
   "cell_type": "code",
   "execution_count": 9,
   "metadata": {},
   "outputs": [],
   "source": [
    "class Triangle(BaseFigure):\n",
    "    n_dots = 3\n",
    "\n",
    "    def __init__(self, a, b, c):\n",
    "        self.a = a\n",
    "        self.b = b\n",
    "        self.c = c\n",
    "        super().__init__()\n",
    "\n",
    "    def area(self):\n",
    "        p = (self.a + self.b + self.c) / 2\n",
    "        return (p * (p - self.a) * (p - self.b) * (p - self.c)) ** 0.5\n",
    "    \n",
    "    def validate(self):\n",
    "        if not (self.a + self.b > self.c and self.a + self.c > self.b and self.b + self.c > self.a):\n",
    "            raise ValueError(\"triangle inequality does not hold\")\n",
    "        return self.a, self.b, self.c\n",
    "\n",
    "class Rectangle(BaseFigure):\n",
    "    n_dots = 4\n",
    "\n",
    "    def __init__(self, a, b):\n",
    "        self.a = a\n",
    "        self.b = b\n",
    "        super().__init__()\n",
    "\n",
    "    def area(self):\n",
    "        return self.a * self.b\n",
    "    \n",
    "    def validate(self):\n",
    "        return self.a, self.b"
   ]
  },
  {
   "cell_type": "markdown",
   "metadata": {},
   "source": [
    "4.4. Попробуем собрать совершенно новый класс, используя BaseFigure в качестве шаблона.\n",
    "\n",
    "Напишите класс Circle, в котором в качестве n_dots будет float('inf'), area будет считаться как 3.14 * r^2, а конструктор будет принимать только один аргумент - r. Метод validate не должен принимать никаких аргументов и не должен осуществлять никаких проверок."
   ]
  },
  {
   "cell_type": "code",
   "execution_count": 10,
   "metadata": {},
   "outputs": [],
   "source": [
    "class Circle(BaseFigure):\n",
    "    n_dots = float('inf')\n",
    "\n",
    "    def __init__(self, r):\n",
    "        self.r = r\n",
    "        super().__init__()\n",
    "\n",
    "    def area(self):\n",
    "        return 3.14 * (self.r ** 2)\n",
    "    \n",
    "    def validate(self):\n",
    "        return self.r"
   ]
  },
  {
   "cell_type": "markdown",
   "metadata": {},
   "source": [
    "5.1. Напишите класс Vector, который на вход будет принимать список координат (x1,…,хn). Положите все координаты вектора в список self.coords.\n",
    "\n",
    "Добейтесь того, чтобы объекты класса Vector можно было складывать через оператор + и получать на выходе тоже объект этого же класса."
   ]
  },
  {
   "cell_type": "code",
   "execution_count": 12,
   "metadata": {},
   "outputs": [
    {
     "data": {
      "text/plain": [
       "<__main__.Vector at 0x103b7e240>"
      ]
     },
     "execution_count": 12,
     "metadata": {},
     "output_type": "execute_result"
    }
   ],
   "source": [
    "class Vector:\n",
    "    def __init__(self, *coords):\n",
    "        self.coords = list(coords)\n",
    "    \n",
    "    def __add__(self, other):\n",
    "        if len(self.coords) != len(other.coords):\n",
    "            # Вместо выброса исключения возвращаем None или специальное значение\n",
    "            print(f\"Error: left and right lengths differ: {len(self.coords)} != {len(other.coords)}\")\n",
    "            return None  # или можно вернуть специальный объект Vector с сообщением об ошибке\n",
    "        return Vector([a + b for a, b in zip(self.coords, other.coords)])\n",
    "    \n",
    "Vector([1, 2]) + Vector([1, 2, 3])"
   ]
  },
  {
   "cell_type": "markdown",
   "metadata": {},
   "source": [
    "По неизвестной причине не работал так, как надо, поэтому я воспользовался подсказкой:"
   ]
  },
  {
   "cell_type": "code",
   "execution_count": null,
   "metadata": {},
   "outputs": [],
   "source": [
    "class Vector:\n",
    "    def __init__(self, coords):\n",
    "        self.coords = coords\n",
    "\n",
    "    def __len__(self):\n",
    "        # Возвращает размер (длину) вектора\n",
    "        return len(self.coords)\n",
    "\n",
    "    def __add__(self, other):\n",
    "        # Проверка, что объект, с которым складываем, является экземпляром Vector\n",
    "        if not isinstance(other, Vector):\n",
    "            raise TypeError(f\"unsupported operand type(s) for +: 'Vector' and '{type(other).__name__}'\")\n",
    "        # Проверка на совпадение длины векторов\n",
    "        if len(self) != len(other):\n",
    "            raise ValueError(f'left and right lengths differ: {len(self)} != {len(other)}')\n",
    "        # Выполнение сложения\n",
    "        res = [a + b for a, b in zip(self.coords, other.coords)]\n",
    "        return Vector(res)\n",
    "\n",
    "    def __repr__(self):\n",
    "        # Представление объекта Vector\n",
    "        return f\"Vector({self.coords})\""
   ]
  },
  {
   "cell_type": "markdown",
   "metadata": {},
   "source": [
    "5.2. Добавим могущества нашему вектору.\n",
    "\n",
    "Добавьте методу красивый вывод при передаче его в print(...).\n",
    "print(Vector([1, 2, 3]))\n",
    "# Напечатает: \"[1, 2, 3]\" без кавычек\n",
    "\n",
    "vec = Vector([1])\n",
    "print(vec)\n",
    "# Напечатает \"[1]\" без кавычек"
   ]
  },
  {
   "cell_type": "markdown",
   "metadata": {},
   "source": [
    "5.3. Продолжаем улучшать вектор. Добавьте в класс возможность умножать вектор на вектор и вектор на число. Не забудьте сохранять координаты вектора в self.coords.\n",
    "Vector([1, 2, 3]) * Vector([2, 5, -2])  # даст 6\n",
    "# 1 * 2 + 2 * 5 + 3 * (-2) = 6\n",
    "\n",
    "Vector([1, 2]) * Vector([2, 3, 4])\n",
    "# ValueError: left and right lengths differ: 2 != 3\n",
    "\n",
    "Vector([2, 3, 5, 8]) * 5  # даст Vector([10, 15, 25, 40])"
   ]
  },
  {
   "cell_type": "code",
   "execution_count": null,
   "metadata": {},
   "outputs": [],
   "source": [
    "class Vector:\n",
    "    def __init__(self, coords):\n",
    "        self.coords = coords\n",
    "\n",
    "    def __len__(self):\n",
    "        # Возвращает размер (длину) вектора\n",
    "        return len(self.coords)\n",
    "\n",
    "    def __add__(self, other):\n",
    "        # Проверка, что объект, с которым складываем, является экземпляром Vector\n",
    "        if not isinstance(other, Vector):\n",
    "            raise TypeError(f\"unsupported operand type(s) for +: 'Vector' and '{type(other).__name__}'\")\n",
    "        # Проверка на совпадение длины векторов\n",
    "        if len(self) != len(other):\n",
    "            raise ValueError(f'left and right lengths differ: {len(self)} != {len(other)}')\n",
    "        # Выполнение сложения\n",
    "        res = [a + b for a, b in zip(self.coords, other.coords)]\n",
    "        return Vector(res)\n",
    "    \n",
    "    def __mul__(self, other):\n",
    "        if isinstance(other, Vector):\n",
    "            if len(self) != len(other):\n",
    "                raise ValueError(f'left and right lengths differ: {len(self)} != {len(other)}')\n",
    "            # Скалярное произведение векторов\n",
    "            return sum(a * b for a, b in zip(self.coords, other.coords))\n",
    "        elif isinstance(other, (int, float)):\n",
    "            # Умножение вектора на число\n",
    "            return Vector([a * other for a in self.coords])\n",
    "        else:\n",
    "            raise TypeError(f\"unsupported operand type(s) for *: 'Vector' and '{type(other).__name__}'\")\n",
    "\n",
    "    def __repr__(self):\n",
    "        # Представление объекта Vector\n",
    "        return f\"Vector({self.coords})\""
   ]
  },
  {
   "cell_type": "markdown",
   "metadata": {},
   "source": [
    "5.4. Добавьте в класс возможности сравнивать два вектора между собой и считать abs (это длина вектора, в Евклидовой метрике)."
   ]
  },
  {
   "cell_type": "code",
   "execution_count": null,
   "metadata": {},
   "outputs": [],
   "source": [
    "class Vector:\n",
    "    def __init__(self, coords):\n",
    "        self.coords = coords\n",
    "\n",
    "    def __len__(self):\n",
    "        # Возвращает размер (длину) вектора\n",
    "        return len(self.coords)\n",
    "\n",
    "    def __add__(self, other):\n",
    "        # Проверка, что объект, с которым складываем, является экземпляром Vector\n",
    "        if not isinstance(other, Vector):\n",
    "            raise TypeError(f\"unsupported operand type(s) for +: 'Vector' and '{type(other).__name__}'\")\n",
    "        # Проверка на совпадение длины векторов\n",
    "        if len(self) != len(other):\n",
    "            raise ValueError(f'left and right lengths differ: {len(self)} != {len(other)}')\n",
    "        # Выполнение сложения\n",
    "        res = [a + b for a, b in zip(self.coords, other.coords)]\n",
    "        return Vector(res)\n",
    "    \n",
    "    def __mul__(self, other):\n",
    "        if isinstance(other, Vector):\n",
    "            if len(self) != len(other):\n",
    "                raise ValueError(f'left and right lengths differ: {len(self)} != {len(other)}')\n",
    "            # Скалярное произведение векторов\n",
    "            return sum(a * b for a, b in zip(self.coords, other.coords))\n",
    "        elif isinstance(other, (int, float)):\n",
    "            # Умножение вектора на число\n",
    "            return Vector([a * other for a in self.coords])\n",
    "        else:\n",
    "            raise TypeError(f\"unsupported operand type(s) for *: 'Vector' and '{type(other).__name__}'\")\n",
    "\n",
    "    def __repr__(self):\n",
    "        # Представление объекта Vector\n",
    "        return f\"Vector({self.coords})\"\n",
    "    \n",
    "    def __eq__(self, other):\n",
    "        if not isinstance(other, Vector):\n",
    "            return False\n",
    "        return self.coords == other.coords\n",
    "\n",
    "    def __abs__(self):\n",
    "        return sqrt(sum(x ** 2 for x in self.coords))"
   ]
  },
  {
   "cell_type": "markdown",
   "metadata": {},
   "source": [
    "6.1. Обычно множественное наследование используют в т.н. Mixins. Mixin (рус. миксины) - это класс, не имеющий полей и имеющий один или более не абстрактных методов (т.е. методов с реализацией). Обычно миксины используют для того, чтобы модульно раздавать различные функциональности различным объектам.\n",
    "\n",
    "В лекции был пример с Connectable и PostgresqlConnection. Connectable как раз был одной из Mixin.\n",
    "\n",
    "Вас перевели из тех.директора сложного проекта в бекенд-разработчика. Встала задача разработать класс, которому на вход будет приходить разобранный запрос от пользователя. Запрос имеет вид:"
   ]
  },
  {
   "cell_type": "code",
   "execution_count": null,
   "metadata": {},
   "outputs": [],
   "source": [
    "# будет приходить запрос в виде словаря\n",
    "request = {\n",
    "  \"cookies\": {key_1: value_1, key_2: value_2, ...},\n",
    "  \"body\": \"a long time ago, in a Galaxy far, far away\",\n",
    "  \"headers\": {\"content-type\": \"application/json\", \"Accept\": \"application/json\"}\n",
    "}\n",
    "\n",
    "# и этот словарь будет передаваться в конструктор класса\n",
    "handler = Handler(request)"
   ]
  },
  {
   "cell_type": "markdown",
   "metadata": {},
   "source": [
    "Разным классам в приложении потребуется разная функциональность: кому-то потребуется проверять, есть ли в headers ключ \"Accept\", кому-то потребуется читать body, а кому-то понадобится проверять пустоту cookies. Будут и классы, которым потребуется несколько возможностей сразу.\n",
    "\n",
    "Напишите классы ParsesCookies, ParsesBody, ParsesHeaders по условиям:\n",
    "\n",
    "- Класс ParsesCookies имеет метод cookies(), возвращающий все по ключу cookies из словаря self.request.\n",
    "- Класс ParsesCookies имеет метод is_authed(), который будет проверять, что в словаре cookies будет ключ auth_key (ни в коем случае не используйте такую авторизацию в реальных проектах).\n",
    "- Класс ParsesBody имеет метод body(), возвращающий текст по ключу body в self.request.\n",
    "- Класс ParsesHeaders имеет метод headers(), возвращающий все по ключу headers из словаря self.request.\n",
    "- Класс ParsesHeaders имеет метод need_json(), который возвращает True, если в headers по ключу \"content-type\" лежит значение \"application/json\", иначе False."
   ]
  },
  {
   "cell_type": "code",
   "execution_count": 15,
   "metadata": {},
   "outputs": [],
   "source": [
    "class ParsesCookies:\n",
    "    def __init__(self, request):\n",
    "        self.request = request\n",
    "    \n",
    "    def cookies(self):\n",
    "        return self.request.get(\"cookies\", {})\n",
    "    \n",
    "    def is_authed(self):\n",
    "        return \"auth_key\" in self.cookies()\n",
    "\n",
    "class ParsesBody:\n",
    "    def __init__(self, request):\n",
    "        self.request = request\n",
    "    \n",
    "    def body(self):\n",
    "        return self.request.get(\"body\", \"\")\n",
    "    \n",
    "class ParsesHeaders:\n",
    "    def __init__(self, request):\n",
    "        self.request = request\n",
    "    \n",
    "    def headers(self):\n",
    "        return self.request.get(\"headers\", {})\n",
    "    \n",
    "    def need_json(self):\n",
    "        return self.headers().get(\"content-type\") == \"application/json\"\n",
    "\n",
    "#  класс Handler, который использует все три Mixin'а\n",
    "class Handler(ParsesCookies, ParsesBody, ParsesHeaders):\n",
    "    def __init__(self, request):\n",
    "        ParsesCookies.__init__(self, request)\n",
    "        ParsesBody.__init__(self, request)\n",
    "        ParsesHeaders.__init__(self, request)"
   ]
  },
  {
   "cell_type": "markdown",
   "metadata": {},
   "source": [
    "6.2. Используя миксины из прошлого пункта, напишите класс JsonHandler, который будет наследоваться от классов ParsesBody и ParsesHeaders , иметь метод process() и конструктор, принимающий аргумент request и сохраняющий в self.request. В этом задании нужно использовать библиотеку json.\n",
    "\n",
    "Метод process() должен работать следующим образом:\n",
    "\n",
    "Если need_json() дает False, то возвращать None\n",
    "Иначе получать тело через body(), пытаться считать его как json.loads(...) и возвращать число ключей в словаре. Если считать не удалось, то вернуть None."
   ]
  },
  {
   "cell_type": "code",
   "execution_count": null,
   "metadata": {},
   "outputs": [],
   "source": [
    "import json\n",
    "\n",
    "class JsonHandler(ParsesBody, ParsesHeaders):\n",
    "    def __init__(self, request):\n",
    "        self.request = request\n",
    "        \n",
    "    def process(self):\n",
    "        if not self.need_json():\n",
    "            return None\n",
    "        try:\n",
    "            # Пытаемся считать JSON из тела запроса\n",
    "            body_data = json.loads(self.body())\n",
    "            # Возвращаем количество ключей в словаре\n",
    "            return len(body_data)\n",
    "        except json.JSONDecodeError:\n",
    "            # Если считать JSON не удалось, возвращаем None\n",
    "            return None"
   ]
  },
  {
   "cell_type": "markdown",
   "metadata": {},
   "source": [
    "6.3. Используя миксины из прошлого пункта, напишите класс SecureTextHandler, который будет наследоваться от классов ParsesBody и ParsesCookies , иметь метод process() и конструктор, принимающий один аргумент и сохраняющий его в нужное поле класса.\n",
    "\n",
    "Метод process() должен работать следующим образом:\n",
    "\n",
    "Если is_authed() дает False, то возвращать None.\n",
    "Иначе получать тело через body() и возвращать его длину."
   ]
  },
  {
   "cell_type": "code",
   "execution_count": 16,
   "metadata": {},
   "outputs": [],
   "source": [
    "class SecureTextHandler(ParsesBody, ParsesCookies):\n",
    "    def __init__(self, request):\n",
    "        self.request = request\n",
    "\n",
    "    def process(self):\n",
    "        if not self.is_authed():\n",
    "            return None\n",
    "        body_data = self.body()\n",
    "        return len(body_data)"
   ]
  }
 ],
 "metadata": {
  "kernelspec": {
   "display_name": "Python 3",
   "language": "python",
   "name": "python3"
  },
  "language_info": {
   "codemirror_mode": {
    "name": "ipython",
    "version": 3
   },
   "file_extension": ".py",
   "mimetype": "text/x-python",
   "name": "python",
   "nbconvert_exporter": "python",
   "pygments_lexer": "ipython3",
   "version": "3.12.0"
  }
 },
 "nbformat": 4,
 "nbformat_minor": 2
}
