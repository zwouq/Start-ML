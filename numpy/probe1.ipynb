{
 "cells": [
  {
   "cell_type": "code",
   "execution_count": 1,
   "metadata": {},
   "outputs": [
    {
     "data": {
      "text/html": [
       "<div>\n",
       "<style scoped>\n",
       "    .dataframe tbody tr th:only-of-type {\n",
       "        vertical-align: middle;\n",
       "    }\n",
       "\n",
       "    .dataframe tbody tr th {\n",
       "        vertical-align: top;\n",
       "    }\n",
       "\n",
       "    .dataframe thead th {\n",
       "        text-align: right;\n",
       "    }\n",
       "</style>\n",
       "<table border=\"1\" class=\"dataframe\">\n",
       "  <thead>\n",
       "    <tr style=\"text-align: right;\">\n",
       "      <th></th>\n",
       "      <th>id</th>\n",
       "      <th>address</th>\n",
       "      <th>categories</th>\n",
       "      <th>city</th>\n",
       "      <th>cuisines</th>\n",
       "      <th>dateAdded</th>\n",
       "      <th>dateUpdated</th>\n",
       "      <th>latitude</th>\n",
       "      <th>longitude</th>\n",
       "      <th>menus.category</th>\n",
       "      <th>menus.currency</th>\n",
       "      <th>menus.dateSeen</th>\n",
       "      <th>menus.description</th>\n",
       "      <th>menus.name</th>\n",
       "      <th>name</th>\n",
       "      <th>province</th>\n",
       "    </tr>\n",
       "  </thead>\n",
       "  <tbody>\n",
       "    <tr>\n",
       "      <th>0</th>\n",
       "      <td>AVwc__cikufWRAb51QjV</td>\n",
       "      <td>610 Commercial St</td>\n",
       "      <td>Restaurant Delivery Service,Restaurants,Pizza,...</td>\n",
       "      <td>Atchison</td>\n",
       "      <td>Restaurant Delivery Service</td>\n",
       "      <td>2016-03-02T11:49:34Z</td>\n",
       "      <td>2017-02-01T18:04:44Z</td>\n",
       "      <td>39.561570</td>\n",
       "      <td>-95.121020</td>\n",
       "      <td>NaN</td>\n",
       "      <td>NaN</td>\n",
       "      <td>2017-02-01T18:04:44Z</td>\n",
       "      <td>NaN</td>\n",
       "      <td>Taco</td>\n",
       "      <td>Gambino's Pizza</td>\n",
       "      <td>KS</td>\n",
       "    </tr>\n",
       "    <tr>\n",
       "      <th>1</th>\n",
       "      <td>AVwc__cikufWRAb51QjV</td>\n",
       "      <td>610 Commercial St</td>\n",
       "      <td>Restaurant Delivery Service,Restaurants,Pizza,...</td>\n",
       "      <td>Atchison</td>\n",
       "      <td>Restaurant Delivery Service</td>\n",
       "      <td>2016-03-02T11:49:34Z</td>\n",
       "      <td>2017-02-01T18:04:44Z</td>\n",
       "      <td>39.561570</td>\n",
       "      <td>-95.121020</td>\n",
       "      <td>NaN</td>\n",
       "      <td>NaN</td>\n",
       "      <td>2016-03-02T11:49:34Z</td>\n",
       "      <td>Beef, onion, cheddar cheese, lettuce,  refried...</td>\n",
       "      <td>Taco</td>\n",
       "      <td>Gambino's Pizza</td>\n",
       "      <td>KS</td>\n",
       "    </tr>\n",
       "    <tr>\n",
       "      <th>2</th>\n",
       "      <td>AVwc__dF_7pvs4fz1Ncy</td>\n",
       "      <td>9521 Morton Davis Dr</td>\n",
       "      <td>Golf Course, American Restaurant, and Resort</td>\n",
       "      <td>Patterson</td>\n",
       "      <td>NaN</td>\n",
       "      <td>2016-10-14T01:58:25Z</td>\n",
       "      <td>2016-10-14T01:58:25Z</td>\n",
       "      <td>37.401855</td>\n",
       "      <td>-121.266703</td>\n",
       "      <td>NaN</td>\n",
       "      <td>NaN</td>\n",
       "      <td>2016-10-14T01:58:25Z</td>\n",
       "      <td>Beef barbacoa or chicken, spanish rice, pico d...</td>\n",
       "      <td>Smotherd Burrito</td>\n",
       "      <td>Diablo Grande Golf &amp; Country Club</td>\n",
       "      <td>Grayson</td>\n",
       "    </tr>\n",
       "    <tr>\n",
       "      <th>3</th>\n",
       "      <td>AVwc__kCByjofQCxkdm-</td>\n",
       "      <td>10550 W I 25 Frontage Rd</td>\n",
       "      <td>Fast Food Restaurant</td>\n",
       "      <td>Longmont</td>\n",
       "      <td>NaN</td>\n",
       "      <td>2016-09-09T17:30:34Z</td>\n",
       "      <td>2016-10-04T05:15:17Z</td>\n",
       "      <td>NaN</td>\n",
       "      <td>NaN</td>\n",
       "      <td>NaN</td>\n",
       "      <td>NaN</td>\n",
       "      <td>2016-09-09T17:30:34Z</td>\n",
       "      <td>NaN</td>\n",
       "      <td>Sausage Burrito</td>\n",
       "      <td>Mcdonald's</td>\n",
       "      <td>Niwot</td>\n",
       "    </tr>\n",
       "    <tr>\n",
       "      <th>4</th>\n",
       "      <td>AVwc__WtByjofQCxkdkR</td>\n",
       "      <td>8495 W 3rd St</td>\n",
       "      <td>Mexican Restaurant Mid-City West,Mexican Resta...</td>\n",
       "      <td>Los Angeles</td>\n",
       "      <td>Mexican</td>\n",
       "      <td>2016-05-19T11:50:25Z</td>\n",
       "      <td>2016-09-11T00:06:37Z</td>\n",
       "      <td>34.080724</td>\n",
       "      <td>-118.389578</td>\n",
       "      <td>NaN</td>\n",
       "      <td>NaN</td>\n",
       "      <td>2016-05-19T11:50:25Z</td>\n",
       "      <td>Wahoo, avocado, cabbage, pico de gallo  and av...</td>\n",
       "      <td>Wahoo Tacogrilled</td>\n",
       "      <td>Baja Fresh Mexican Grill</td>\n",
       "      <td>Bicentennial</td>\n",
       "    </tr>\n",
       "  </tbody>\n",
       "</table>\n",
       "</div>"
      ],
      "text/plain": [
       "                     id                   address  \\\n",
       "0  AVwc__cikufWRAb51QjV         610 Commercial St   \n",
       "1  AVwc__cikufWRAb51QjV         610 Commercial St   \n",
       "2  AVwc__dF_7pvs4fz1Ncy      9521 Morton Davis Dr   \n",
       "3  AVwc__kCByjofQCxkdm-  10550 W I 25 Frontage Rd   \n",
       "4  AVwc__WtByjofQCxkdkR             8495 W 3rd St   \n",
       "\n",
       "                                          categories         city  \\\n",
       "0  Restaurant Delivery Service,Restaurants,Pizza,...     Atchison   \n",
       "1  Restaurant Delivery Service,Restaurants,Pizza,...     Atchison   \n",
       "2       Golf Course, American Restaurant, and Resort    Patterson   \n",
       "3                               Fast Food Restaurant     Longmont   \n",
       "4  Mexican Restaurant Mid-City West,Mexican Resta...  Los Angeles   \n",
       "\n",
       "                      cuisines             dateAdded           dateUpdated  \\\n",
       "0  Restaurant Delivery Service  2016-03-02T11:49:34Z  2017-02-01T18:04:44Z   \n",
       "1  Restaurant Delivery Service  2016-03-02T11:49:34Z  2017-02-01T18:04:44Z   \n",
       "2                          NaN  2016-10-14T01:58:25Z  2016-10-14T01:58:25Z   \n",
       "3                          NaN  2016-09-09T17:30:34Z  2016-10-04T05:15:17Z   \n",
       "4                      Mexican  2016-05-19T11:50:25Z  2016-09-11T00:06:37Z   \n",
       "\n",
       "    latitude   longitude menus.category menus.currency        menus.dateSeen  \\\n",
       "0  39.561570  -95.121020            NaN            NaN  2017-02-01T18:04:44Z   \n",
       "1  39.561570  -95.121020            NaN            NaN  2016-03-02T11:49:34Z   \n",
       "2  37.401855 -121.266703            NaN            NaN  2016-10-14T01:58:25Z   \n",
       "3        NaN         NaN            NaN            NaN  2016-09-09T17:30:34Z   \n",
       "4  34.080724 -118.389578            NaN            NaN  2016-05-19T11:50:25Z   \n",
       "\n",
       "                                   menus.description         menus.name  \\\n",
       "0                                                NaN               Taco   \n",
       "1  Beef, onion, cheddar cheese, lettuce,  refried...               Taco   \n",
       "2  Beef barbacoa or chicken, spanish rice, pico d...   Smotherd Burrito   \n",
       "3                                                NaN    Sausage Burrito   \n",
       "4  Wahoo, avocado, cabbage, pico de gallo  and av...  Wahoo Tacogrilled   \n",
       "\n",
       "                                name      province  \n",
       "0                    Gambino's Pizza            KS  \n",
       "1                    Gambino's Pizza            KS  \n",
       "2  Diablo Grande Golf & Country Club       Grayson  \n",
       "3                         Mcdonald's         Niwot  \n",
       "4           Baja Fresh Mexican Grill  Bicentennial  "
      ]
     },
     "execution_count": 1,
     "metadata": {},
     "output_type": "execute_result"
    }
   ],
   "source": [
    "import pandas as pd\n",
    "\n",
    "df = pd.read_csv('/Users/zwouq/Downloads/Start-ML/numpy/data.csv')\n",
    "df.head(5)"
   ]
  },
  {
   "cell_type": "code",
   "execution_count": 2,
   "metadata": {},
   "outputs": [
    {
     "data": {
      "text/plain": [
       "id                    object\n",
       "address               object\n",
       "categories            object\n",
       "city                  object\n",
       "cuisines              object\n",
       "dateAdded             object\n",
       "dateUpdated           object\n",
       "latitude             float64\n",
       "longitude            float64\n",
       "menus.category        object\n",
       "menus.currency        object\n",
       "menus.dateSeen        object\n",
       "menus.description     object\n",
       "menus.name            object\n",
       "name                  object\n",
       "province              object\n",
       "dtype: object"
      ]
     },
     "execution_count": 2,
     "metadata": {},
     "output_type": "execute_result"
    }
   ],
   "source": [
    "df.dtypes"
   ]
  },
  {
   "cell_type": "code",
   "execution_count": 5,
   "metadata": {},
   "outputs": [
    {
     "data": {
      "text/html": [
       "<div>\n",
       "<style scoped>\n",
       "    .dataframe tbody tr th:only-of-type {\n",
       "        vertical-align: middle;\n",
       "    }\n",
       "\n",
       "    .dataframe tbody tr th {\n",
       "        vertical-align: top;\n",
       "    }\n",
       "\n",
       "    .dataframe thead th {\n",
       "        text-align: right;\n",
       "    }\n",
       "</style>\n",
       "<table border=\"1\" class=\"dataframe\">\n",
       "  <thead>\n",
       "    <tr style=\"text-align: right;\">\n",
       "      <th></th>\n",
       "      <th>latitude</th>\n",
       "      <th>longitude</th>\n",
       "    </tr>\n",
       "  </thead>\n",
       "  <tbody>\n",
       "    <tr>\n",
       "      <th>count</th>\n",
       "      <td>55636.000000</td>\n",
       "      <td>55636.000000</td>\n",
       "    </tr>\n",
       "    <tr>\n",
       "      <th>mean</th>\n",
       "      <td>36.694846</td>\n",
       "      <td>-98.713309</td>\n",
       "    </tr>\n",
       "    <tr>\n",
       "      <th>std</th>\n",
       "      <td>4.835124</td>\n",
       "      <td>18.245857</td>\n",
       "    </tr>\n",
       "    <tr>\n",
       "      <th>min</th>\n",
       "      <td>-31.986438</td>\n",
       "      <td>-159.492690</td>\n",
       "    </tr>\n",
       "    <tr>\n",
       "      <th>25%</th>\n",
       "      <td>33.668355</td>\n",
       "      <td>-117.647150</td>\n",
       "    </tr>\n",
       "    <tr>\n",
       "      <th>50%</th>\n",
       "      <td>36.047195</td>\n",
       "      <td>-96.682320</td>\n",
       "    </tr>\n",
       "    <tr>\n",
       "      <th>75%</th>\n",
       "      <td>40.588380</td>\n",
       "      <td>-82.679930</td>\n",
       "    </tr>\n",
       "    <tr>\n",
       "      <th>max</th>\n",
       "      <td>61.219460</td>\n",
       "      <td>115.903696</td>\n",
       "    </tr>\n",
       "  </tbody>\n",
       "</table>\n",
       "</div>"
      ],
      "text/plain": [
       "           latitude     longitude\n",
       "count  55636.000000  55636.000000\n",
       "mean      36.694846    -98.713309\n",
       "std        4.835124     18.245857\n",
       "min      -31.986438   -159.492690\n",
       "25%       33.668355   -117.647150\n",
       "50%       36.047195    -96.682320\n",
       "75%       40.588380    -82.679930\n",
       "max       61.219460    115.903696"
      ]
     },
     "execution_count": 5,
     "metadata": {},
     "output_type": "execute_result"
    }
   ],
   "source": [
    "df[['latitude', 'longitude']].describe()"
   ]
  },
  {
   "cell_type": "markdown",
   "metadata": {},
   "source": [
    "Сейчас в данных присутствуют пропущенные значения. Давайте их удалим.\n",
    "\n",
    "Примените метод dropna.  Сколько осталось записей?"
   ]
  },
  {
   "cell_type": "code",
   "execution_count": 7,
   "metadata": {},
   "outputs": [
    {
     "data": {
      "text/plain": [
       "1925"
      ]
     },
     "execution_count": 7,
     "metadata": {},
     "output_type": "execute_result"
    }
   ],
   "source": [
    "df_cleaned = df.dropna()\n",
    "df_cleaned.shape[0]"
   ]
  },
  {
   "cell_type": "markdown",
   "metadata": {},
   "source": [
    "Отберите заведения, которые находятся в городе Калифорния ('California'), штат Миссури."
   ]
  },
  {
   "cell_type": "code",
   "execution_count": 9,
   "metadata": {},
   "outputs": [
    {
     "data": {
      "text/plain": [
       "Int64Index([40483, 52930, 52931, 52932, 52933, 52934, 52935, 52936, 52937,\n",
       "            52938, 52939, 65070],\n",
       "           dtype='int64')"
      ]
     },
     "execution_count": 9,
     "metadata": {},
     "output_type": "execute_result"
    }
   ],
   "source": [
    "df[df['city'] == 'California'].index"
   ]
  },
  {
   "cell_type": "markdown",
   "metadata": {},
   "source": [
    "Отберите заведения Taco Bell в городе Калифорния ('California'), штат Миссури."
   ]
  },
  {
   "cell_type": "code",
   "execution_count": 11,
   "metadata": {},
   "outputs": [
    {
     "data": {
      "text/plain": [
       "Int64Index([52930, 52931, 52932, 52933, 52934, 52935, 52936, 52937, 52938,\n",
       "            52939],\n",
       "           dtype='int64')"
      ]
     },
     "execution_count": 11,
     "metadata": {},
     "output_type": "execute_result"
    }
   ],
   "source": [
    "df[(df['city'] == 'California') & (df['name'] == 'Taco Bell')].index"
   ]
  },
  {
   "cell_type": "markdown",
   "metadata": {},
   "source": [
    "Давайте найдем заведения Taco Bell или заведения, которые находятся в городе Нью-Йорк. При этом обязательно, чтобы в названии меню не было Volcano Taco и Fresco Soft Taco (именно таких значений колонки). Данные нужно сохранить в датафрейм result."
   ]
  },
  {
   "cell_type": "code",
   "execution_count": 12,
   "metadata": {},
   "outputs": [],
   "source": [
    "result = df[(df['city'] == 'New York') | (df['name'] == 'Taco Bell') & (~df['menus.name'].str.contains('Volcano Taco|Fresco Soft Taco'))]"
   ]
  },
  {
   "cell_type": "markdown",
   "metadata": {},
   "source": [
    "Давайте отберем заведения, где значение валюты, в которой принимают оплату, не пропущено.\n",
    "\n",
    "Нужно сохранить данные в результирующий датафрейм result."
   ]
  },
  {
   "cell_type": "code",
   "execution_count": null,
   "metadata": {},
   "outputs": [],
   "source": [
    "result = df[df['menus.currency'].notna()]"
   ]
  },
  {
   "cell_type": "markdown",
   "metadata": {},
   "source": [
    "Попробуйте сделать data['categories'], data[['categories']], посмотрите на тип и на значения их элементов."
   ]
  },
  {
   "cell_type": "code",
   "execution_count": 16,
   "metadata": {},
   "outputs": [
    {
     "data": {
      "text/plain": [
       "0        Restaurant Delivery Service,Restaurants,Pizza,...\n",
       "1        Restaurant Delivery Service,Restaurants,Pizza,...\n",
       "2             Golf Course, American Restaurant, and Resort\n",
       "3                                     Fast Food Restaurant\n",
       "4        Mexican Restaurant Mid-City West,Mexican Resta...\n",
       "                               ...                        \n",
       "77255                                           Restaurant\n",
       "77256                                           Restaurant\n",
       "77257                                           Restaurant\n",
       "77258                                           Restaurant\n",
       "77259                                           Restaurant\n",
       "Name: categories, Length: 77260, dtype: object"
      ]
     },
     "execution_count": 16,
     "metadata": {},
     "output_type": "execute_result"
    }
   ],
   "source": [
    "df['categories']"
   ]
  },
  {
   "cell_type": "code",
   "execution_count": 18,
   "metadata": {},
   "outputs": [
    {
     "data": {
      "text/html": [
       "<div>\n",
       "<style scoped>\n",
       "    .dataframe tbody tr th:only-of-type {\n",
       "        vertical-align: middle;\n",
       "    }\n",
       "\n",
       "    .dataframe tbody tr th {\n",
       "        vertical-align: top;\n",
       "    }\n",
       "\n",
       "    .dataframe thead th {\n",
       "        text-align: right;\n",
       "    }\n",
       "</style>\n",
       "<table border=\"1\" class=\"dataframe\">\n",
       "  <thead>\n",
       "    <tr style=\"text-align: right;\">\n",
       "      <th></th>\n",
       "      <th>categories</th>\n",
       "    </tr>\n",
       "  </thead>\n",
       "  <tbody>\n",
       "    <tr>\n",
       "      <th>0</th>\n",
       "      <td>Restaurant Delivery Service,Restaurants,Pizza,...</td>\n",
       "    </tr>\n",
       "    <tr>\n",
       "      <th>1</th>\n",
       "      <td>Restaurant Delivery Service,Restaurants,Pizza,...</td>\n",
       "    </tr>\n",
       "    <tr>\n",
       "      <th>2</th>\n",
       "      <td>Golf Course, American Restaurant, and Resort</td>\n",
       "    </tr>\n",
       "    <tr>\n",
       "      <th>3</th>\n",
       "      <td>Fast Food Restaurant</td>\n",
       "    </tr>\n",
       "    <tr>\n",
       "      <th>4</th>\n",
       "      <td>Mexican Restaurant Mid-City West,Mexican Resta...</td>\n",
       "    </tr>\n",
       "    <tr>\n",
       "      <th>...</th>\n",
       "      <td>...</td>\n",
       "    </tr>\n",
       "    <tr>\n",
       "      <th>77255</th>\n",
       "      <td>Restaurant</td>\n",
       "    </tr>\n",
       "    <tr>\n",
       "      <th>77256</th>\n",
       "      <td>Restaurant</td>\n",
       "    </tr>\n",
       "    <tr>\n",
       "      <th>77257</th>\n",
       "      <td>Restaurant</td>\n",
       "    </tr>\n",
       "    <tr>\n",
       "      <th>77258</th>\n",
       "      <td>Restaurant</td>\n",
       "    </tr>\n",
       "    <tr>\n",
       "      <th>77259</th>\n",
       "      <td>Restaurant</td>\n",
       "    </tr>\n",
       "  </tbody>\n",
       "</table>\n",
       "<p>77260 rows × 1 columns</p>\n",
       "</div>"
      ],
      "text/plain": [
       "                                              categories\n",
       "0      Restaurant Delivery Service,Restaurants,Pizza,...\n",
       "1      Restaurant Delivery Service,Restaurants,Pizza,...\n",
       "2           Golf Course, American Restaurant, and Resort\n",
       "3                                   Fast Food Restaurant\n",
       "4      Mexican Restaurant Mid-City West,Mexican Resta...\n",
       "...                                                  ...\n",
       "77255                                         Restaurant\n",
       "77256                                         Restaurant\n",
       "77257                                         Restaurant\n",
       "77258                                         Restaurant\n",
       "77259                                         Restaurant\n",
       "\n",
       "[77260 rows x 1 columns]"
      ]
     },
     "execution_count": 18,
     "metadata": {},
     "output_type": "execute_result"
    }
   ],
   "source": [
    "df[['categories']]"
   ]
  },
  {
   "cell_type": "code",
   "execution_count": 21,
   "metadata": {},
   "outputs": [
    {
     "data": {
      "text/html": [
       "<div>\n",
       "<style scoped>\n",
       "    .dataframe tbody tr th:only-of-type {\n",
       "        vertical-align: middle;\n",
       "    }\n",
       "\n",
       "    .dataframe tbody tr th {\n",
       "        vertical-align: top;\n",
       "    }\n",
       "\n",
       "    .dataframe thead th {\n",
       "        text-align: right;\n",
       "    }\n",
       "</style>\n",
       "<table border=\"1\" class=\"dataframe\">\n",
       "  <thead>\n",
       "    <tr style=\"text-align: right;\">\n",
       "      <th></th>\n",
       "      <th>categories</th>\n",
       "      <th>city</th>\n",
       "    </tr>\n",
       "  </thead>\n",
       "  <tbody>\n",
       "    <tr>\n",
       "      <th>0</th>\n",
       "      <td>Restaurant Delivery Service,Restaurants,Pizza,...</td>\n",
       "      <td>Atchison</td>\n",
       "    </tr>\n",
       "    <tr>\n",
       "      <th>1</th>\n",
       "      <td>Restaurant Delivery Service,Restaurants,Pizza,...</td>\n",
       "      <td>Atchison</td>\n",
       "    </tr>\n",
       "    <tr>\n",
       "      <th>2</th>\n",
       "      <td>Golf Course, American Restaurant, and Resort</td>\n",
       "      <td>Patterson</td>\n",
       "    </tr>\n",
       "    <tr>\n",
       "      <th>3</th>\n",
       "      <td>Fast Food Restaurant</td>\n",
       "      <td>Longmont</td>\n",
       "    </tr>\n",
       "    <tr>\n",
       "      <th>4</th>\n",
       "      <td>Mexican Restaurant Mid-City West,Mexican Resta...</td>\n",
       "      <td>Los Angeles</td>\n",
       "    </tr>\n",
       "    <tr>\n",
       "      <th>...</th>\n",
       "      <td>...</td>\n",
       "      <td>...</td>\n",
       "    </tr>\n",
       "    <tr>\n",
       "      <th>77255</th>\n",
       "      <td>Restaurant</td>\n",
       "      <td>San Francisco</td>\n",
       "    </tr>\n",
       "    <tr>\n",
       "      <th>77256</th>\n",
       "      <td>Restaurant</td>\n",
       "      <td>San Francisco</td>\n",
       "    </tr>\n",
       "    <tr>\n",
       "      <th>77257</th>\n",
       "      <td>Restaurant</td>\n",
       "      <td>San Francisco</td>\n",
       "    </tr>\n",
       "    <tr>\n",
       "      <th>77258</th>\n",
       "      <td>Restaurant</td>\n",
       "      <td>San Francisco</td>\n",
       "    </tr>\n",
       "    <tr>\n",
       "      <th>77259</th>\n",
       "      <td>Restaurant</td>\n",
       "      <td>San Francisco</td>\n",
       "    </tr>\n",
       "  </tbody>\n",
       "</table>\n",
       "<p>77260 rows × 2 columns</p>\n",
       "</div>"
      ],
      "text/plain": [
       "                                              categories           city\n",
       "0      Restaurant Delivery Service,Restaurants,Pizza,...       Atchison\n",
       "1      Restaurant Delivery Service,Restaurants,Pizza,...       Atchison\n",
       "2           Golf Course, American Restaurant, and Resort      Patterson\n",
       "3                                   Fast Food Restaurant       Longmont\n",
       "4      Mexican Restaurant Mid-City West,Mexican Resta...    Los Angeles\n",
       "...                                                  ...            ...\n",
       "77255                                         Restaurant  San Francisco\n",
       "77256                                         Restaurant  San Francisco\n",
       "77257                                         Restaurant  San Francisco\n",
       "77258                                         Restaurant  San Francisco\n",
       "77259                                         Restaurant  San Francisco\n",
       "\n",
       "[77260 rows x 2 columns]"
      ]
     },
     "execution_count": 21,
     "metadata": {},
     "output_type": "execute_result"
    }
   ],
   "source": [
    "df[['categories', 'city']]"
   ]
  },
  {
   "cell_type": "markdown",
   "metadata": {},
   "source": [
    "Напишите через запятую и пробел 5 городов с наибольшим количеством записей (в порядке убывания количества записей)."
   ]
  },
  {
   "cell_type": "code",
   "execution_count": 23,
   "metadata": {},
   "outputs": [
    {
     "data": {
      "text/plain": [
       "San Diego        1924\n",
       "Los Angeles      1603\n",
       "Chicago          1186\n",
       "San Francisco    1120\n",
       "New York         1085\n",
       "Name: city, dtype: int64"
      ]
     },
     "execution_count": 23,
     "metadata": {},
     "output_type": "execute_result"
    }
   ],
   "source": [
    "top_5_cities = df['city'].value_counts().nlargest(5)\n",
    "top_5_cities"
   ]
  },
  {
   "cell_type": "markdown",
   "metadata": {},
   "source": [
    "Посчитайте, сколько ресторанов Taco Bell находится в каждом городе. Отберите 5 городов, в которых ресторан встречается чаще всего."
   ]
  },
  {
   "cell_type": "code",
   "execution_count": 25,
   "metadata": {},
   "outputs": [
    {
     "data": {
      "text/plain": [
       "Indianapolis        84\n",
       "Columbus            63\n",
       "Charleston          63\n",
       "Tampa               62\n",
       "South Lake Tahoe    42\n",
       "Name: number_of_tacobell_restaurants, dtype: int64"
      ]
     },
     "execution_count": 25,
     "metadata": {},
     "output_type": "execute_result"
    }
   ],
   "source": [
    "# Filter for Taco Bell\n",
    "df_taco_bell = df[df['name'] == 'Taco Bell']\n",
    "\n",
    "# Count the number of Taco Bells for each city\n",
    "taco_bell_cities_counts = df_taco_bell['city'].value_counts()\n",
    "\n",
    "# Find the Top 5 cities\n",
    "top_5_cities_2 = taco_bell_cities_counts.nlargest(5)\n",
    "result = pd.Series(top_5_cities_2, name='number_of_tacobell_restaurants')\n",
    "result"
   ]
  },
  {
   "cell_type": "markdown",
   "metadata": {},
   "source": [
    "Pестораны, открытые в октябре"
   ]
  },
  {
   "cell_type": "code",
   "execution_count": 26,
   "metadata": {},
   "outputs": [
    {
     "data": {
      "text/plain": [
       "Int64Index([    2,    21,    22,    23,    24,    25,    55,    56,    57,\n",
       "               58,\n",
       "            ...\n",
       "            76906, 76907, 76908, 76910, 76917, 76927, 76946, 76947, 76948,\n",
       "            76949],\n",
       "           dtype='int64', length=19542)"
      ]
     },
     "execution_count": 26,
     "metadata": {},
     "output_type": "execute_result"
    }
   ],
   "source": [
    "october_restaurants = df[df['dateAdded'].str.contains('-10-', na=False)].index\n",
    "october_restaurants"
   ]
  },
  {
   "cell_type": "markdown",
   "metadata": {},
   "source": [
    "Сделайте группировку по месяцу открытия ресторана (переменная dateAdded). Сколько ресторанов было открыто в каждом месяце? Рассчитайте по количеству уникальных id ресторанов в каждом месяце."
   ]
  },
  {
   "cell_type": "code",
   "execution_count": 33,
   "metadata": {},
   "outputs": [
    {
     "data": {
      "text/plain": [
       "dateAdded\n",
       "1      308\n",
       "2      257\n",
       "3     4970\n",
       "4     3224\n",
       "5     1141\n",
       "6     1356\n",
       "7      645\n",
       "8      479\n",
       "9      554\n",
       "10    4716\n",
       "11    1550\n",
       "12     239\n",
       "Name: id, dtype: int64"
      ]
     },
     "execution_count": 33,
     "metadata": {},
     "output_type": "execute_result"
    }
   ],
   "source": [
    "df['dateAdded'] = pd.to_datetime(df['dateAdded'])\n",
    "result = df.groupby(df['dateAdded'].dt.month)['id'].nunique()\n",
    "result"
   ]
  }
 ],
 "metadata": {
  "kernelspec": {
   "display_name": "Python 3",
   "language": "python",
   "name": "python3"
  },
  "language_info": {
   "codemirror_mode": {
    "name": "ipython",
    "version": 3
   },
   "file_extension": ".py",
   "mimetype": "text/x-python",
   "name": "python",
   "nbconvert_exporter": "python",
   "pygments_lexer": "ipython3",
   "version": "3.12.0"
  }
 },
 "nbformat": 4,
 "nbformat_minor": 2
}
